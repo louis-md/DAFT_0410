{
 "cells": [
  {
   "cell_type": "code",
   "execution_count": 2,
   "metadata": {},
   "outputs": [
    {
     "name": "stdout",
     "output_type": "stream",
     "text": [
      "text/html; charset=UTF-8\n"
     ]
    },
    {
     "data": {
      "text/plain": [
       "23896"
      ]
     },
     "execution_count": 2,
     "metadata": {},
     "output_type": "execute_result"
    }
   ],
   "source": [
    "import requests\n",
    "\n",
    "response = requests.get('https://xkcd.com')\n",
    "expiresHeader = response.headers.get('Content-type')\n",
    "html = response.text\n",
    "print(expiresHeader)\n",
    "\n",
    "pic = requests.get('https://imgs.xkcd.com/comics/linguistics_gossip.png').content\n",
    "file = open('linguistics_gossip.png', 'wb')\n",
    "file.write(pic)\n",
    "\n",
    "\n"
   ]
  },
  {
   "cell_type": "code",
   "execution_count": 23,
   "metadata": {},
   "outputs": [
    {
     "name": "stdout",
     "output_type": "stream",
     "text": [
      "{'args': {'password': 'password', 'things': '3', 'total': '25', 'username': 'louis'}, 'headers': {'Accept': '*/*', 'Accept-Encoding': 'gzip, deflate, br', 'Host': 'httpbin.org', 'User-Agent': 'python-requests/2.28.1', 'X-Amzn-Trace-Id': 'Root=1-643d5588-7af28cce672eb6be2b5a5e98'}, 'origin': '185.146.221.98', 'url': 'https://httpbin.org/get?things=3&total=25&username=louis&password=password'}\n"
     ]
    }
   ],
   "source": [
    "auth = { 'username': 'louis', 'password': 'password' }\n",
    "challenge2 = requests.get('https://httpbin.org/get', params={\"things\": 3, \"total\": 25,  **auth})\n",
    "data = challenge2.json()\n",
    "print(data)\n"
   ]
  },
  {
   "cell_type": "code",
   "execution_count": 67,
   "metadata": {},
   "outputs": [
    {
     "name": "stdout",
     "output_type": "stream",
     "text": [
      "['{\"message\":\"API rate limit exceeded for 185.146.221.98. (But here\\'s the good news: Authenticated requests get a higher rate limit. Check out the documentation for more details.)\",\"documentation_url\":\"https://docs.github.com/rest/overview/resources-in-the-rest-api#rate-limiting\"}\\n', '{\"message\":\"API rate limit exceeded for 185.146.221.98. (But here\\'s the good news: Authenticated requests get a higher rate limit. Check out the documentation for more details.)\",\"documentation_url\":\"https://docs.github.com/rest/overview/resources-in-the-rest-api#rate-limiting\"}\\n', '{\"message\":\"API rate limit exceeded for 185.146.221.98. (But here\\'s the good news: Authenticated requests get a higher rate limit. Check out the documentation for more details.)\",\"documentation_url\":\"https://docs.github.com/rest/overview/resources-in-the-rest-api#rate-limiting\"}\\n', '{\"message\":\"API rate limit exceeded for 185.146.221.98. (But here\\'s the good news: Authenticated requests get a higher rate limit. Check out the documentation for more details.)\",\"documentation_url\":\"https://docs.github.com/rest/overview/resources-in-the-rest-api#rate-limiting\"}\\n', '{\"message\":\"API rate limit exceeded for 185.146.221.98. (But here\\'s the good news: Authenticated requests get a higher rate limit. Check out the documentation for more details.)\",\"documentation_url\":\"https://docs.github.com/rest/overview/resources-in-the-rest-api#rate-limiting\"}\\n', '{\"message\":\"API rate limit exceeded for 185.146.221.98. (But here\\'s the good news: Authenticated requests get a higher rate limit. Check out the documentation for more details.)\",\"documentation_url\":\"https://docs.github.com/rest/overview/resources-in-the-rest-api#rate-limiting\"}\\n', '{\"message\":\"API rate limit exceeded for 185.146.221.98. (But here\\'s the good news: Authenticated requests get a higher rate limit. Check out the documentation for more details.)\",\"documentation_url\":\"https://docs.github.com/rest/overview/resources-in-the-rest-api#rate-limiting\"}\\n', '{\"message\":\"API rate limit exceeded for 185.146.221.98. (But here\\'s the good news: Authenticated requests get a higher rate limit. Check out the documentation for more details.)\",\"documentation_url\":\"https://docs.github.com/rest/overview/resources-in-the-rest-api#rate-limiting\"}\\n', '{\"message\":\"API rate limit exceeded for 185.146.221.98. (But here\\'s the good news: Authenticated requests get a higher rate limit. Check out the documentation for more details.)\",\"documentation_url\":\"https://docs.github.com/rest/overview/resources-in-the-rest-api#rate-limiting\"}\\n', '{\"message\":\"API rate limit exceeded for 185.146.221.98. (But here\\'s the good news: Authenticated requests get a higher rate limit. Check out the documentation for more details.)\",\"documentation_url\":\"https://docs.github.com/rest/overview/resources-in-the-rest-api#rate-limiting\"}\\n', '{\"message\":\"API rate limit exceeded for 185.146.221.98. (But here\\'s the good news: Authenticated requests get a higher rate limit. Check out the documentation for more details.)\",\"documentation_url\":\"https://docs.github.com/rest/overview/resources-in-the-rest-api#rate-limiting\"}\\n', '{\"message\":\"API rate limit exceeded for 185.146.221.98. (But here\\'s the good news: Authenticated requests get a higher rate limit. Check out the documentation for more details.)\",\"documentation_url\":\"https://docs.github.com/rest/overview/resources-in-the-rest-api#rate-limiting\"}\\n', '{\"message\":\"API rate limit exceeded for 185.146.221.98. (But here\\'s the good news: Authenticated requests get a higher rate limit. Check out the documentation for more details.)\",\"documentation_url\":\"https://docs.github.com/rest/overview/resources-in-the-rest-api#rate-limiting\"}\\n', '{\"message\":\"API rate limit exceeded for 185.146.221.98. (But here\\'s the good news: Authenticated requests get a higher rate limit. Check out the documentation for more details.)\",\"documentation_url\":\"https://docs.github.com/rest/overview/resources-in-the-rest-api#rate-limiting\"}\\n', '{\"message\":\"API rate limit exceeded for 185.146.221.98. (But here\\'s the good news: Authenticated requests get a higher rate limit. Check out the documentation for more details.)\",\"documentation_url\":\"https://docs.github.com/rest/overview/resources-in-the-rest-api#rate-limiting\"}\\n', '{\"message\":\"API rate limit exceeded for 185.146.221.98. (But here\\'s the good news: Authenticated requests get a higher rate limit. Check out the documentation for more details.)\",\"documentation_url\":\"https://docs.github.com/rest/overview/resources-in-the-rest-api#rate-limiting\"}\\n', '{\"message\":\"API rate limit exceeded for 185.146.221.98. (But here\\'s the good news: Authenticated requests get a higher rate limit. Check out the documentation for more details.)\",\"documentation_url\":\"https://docs.github.com/rest/overview/resources-in-the-rest-api#rate-limiting\"}\\n', '{\"message\":\"API rate limit exceeded for 185.146.221.98. (But here\\'s the good news: Authenticated requests get a higher rate limit. Check out the documentation for more details.)\",\"documentation_url\":\"https://docs.github.com/rest/overview/resources-in-the-rest-api#rate-limiting\"}\\n', '{\"message\":\"API rate limit exceeded for 185.146.221.98. (But here\\'s the good news: Authenticated requests get a higher rate limit. Check out the documentation for more details.)\",\"documentation_url\":\"https://docs.github.com/rest/overview/resources-in-the-rest-api#rate-limiting\"}\\n', '{\"message\":\"API rate limit exceeded for 185.146.221.98. (But here\\'s the good news: Authenticated requests get a higher rate limit. Check out the documentation for more details.)\",\"documentation_url\":\"https://docs.github.com/rest/overview/resources-in-the-rest-api#rate-limiting\"}\\n', '{\"message\":\"API rate limit exceeded for 185.146.221.98. (But here\\'s the good news: Authenticated requests get a higher rate limit. Check out the documentation for more details.)\",\"documentation_url\":\"https://docs.github.com/rest/overview/resources-in-the-rest-api#rate-limiting\"}\\n', '{\"message\":\"API rate limit exceeded for 185.146.221.98. (But here\\'s the good news: Authenticated requests get a higher rate limit. Check out the documentation for more details.)\",\"documentation_url\":\"https://docs.github.com/rest/overview/resources-in-the-rest-api#rate-limiting\"}\\n', '{\"message\":\"API rate limit exceeded for 185.146.221.98. (But here\\'s the good news: Authenticated requests get a higher rate limit. Check out the documentation for more details.)\",\"documentation_url\":\"https://docs.github.com/rest/overview/resources-in-the-rest-api#rate-limiting\"}\\n', '{\"message\":\"API rate limit exceeded for 185.146.221.98. (But here\\'s the good news: Authenticated requests get a higher rate limit. Check out the documentation for more details.)\",\"documentation_url\":\"https://docs.github.com/rest/overview/resources-in-the-rest-api#rate-limiting\"}\\n']\n"
     ]
    }
   ],
   "source": [
    "username = 'louis-md'\n",
    "token = \":)\"\n",
    "res = requests.get('https://api.github.com/search/code?q=.scavengerhunt+in:path+repo:ironhack-datalabs/scavenger', auth=(username, token)).json()\n",
    "def parseFiles(file): return requests.get(file['url']).text\n",
    "parsedFiles = list(map(parseFiles, res['items']))\n",
    "\n",
    "print(parsedFiles)"
   ]
  }
 ],
 "metadata": {
  "kernelspec": {
   "display_name": "base",
   "language": "python",
   "name": "python3"
  },
  "language_info": {
   "codemirror_mode": {
    "name": "ipython",
    "version": 3
   },
   "file_extension": ".py",
   "mimetype": "text/x-python",
   "name": "python",
   "nbconvert_exporter": "python",
   "pygments_lexer": "ipython3",
   "version": "3.10.9"
  },
  "orig_nbformat": 4
 },
 "nbformat": 4,
 "nbformat_minor": 2
}
